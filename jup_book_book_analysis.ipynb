{
 "cells": [
  {
   "cell_type": "markdown",
   "id": "eae03561-ba44-4750-98a8-598bd8fa4152",
   "metadata": {},
   "source": [
    "### importing file "
   ]
  },
  {
   "cell_type": "code",
   "execution_count": 5,
   "id": "1763b65e-e12d-4399-87f0-8721ebaf7efe",
   "metadata": {},
   "outputs": [],
   "source": [
    "with open(\"miracle_in_the_andes.txt\", \"r\", encoding=\"UTF-8\") as file:\n",
    "    book = file.read()"
   ]
  },
  {
   "cell_type": "markdown",
   "id": "dcef775a-3453-4f6f-bf08-8801a6ab9e60",
   "metadata": {},
   "source": [
    "### how many chapters"
   ]
  },
  {
   "cell_type": "markdown",
   "id": "a83c9c75-93f6-4b2f-9dda-3252e70b4a70",
   "metadata": {},
   "source": [
    "#### using string methods"
   ]
  },
  {
   "cell_type": "code",
   "execution_count": 6,
   "id": "45305e74-3506-4a12-9123-4956c4a04388",
   "metadata": {},
   "outputs": [
    {
     "data": {
      "text/plain": [
       "11"
      ]
     },
     "execution_count": 6,
     "metadata": {},
     "output_type": "execute_result"
    }
   ],
   "source": [
    "book.count(\"Chapter\")"
   ]
  },
  {
   "cell_type": "markdown",
   "id": "43187a29-f3a2-47b9-9c68-6a0e7bce49a0",
   "metadata": {},
   "source": [
    "python is looking for the cap \"C\" of chapters to count. With this its not right. \n",
    "the author had started a another line with a cap Chapter there is only 10 Chaps in this book. "
   ]
  },
  {
   "cell_type": "markdown",
   "id": "542024f1-7581-460b-84be-bd51fb47f813",
   "metadata": {},
   "source": [
    "#### regular expression or regex"
   ]
  },
  {
   "cell_type": "code",
   "execution_count": 7,
   "id": "b08aa357-fbf4-4e52-9ca5-5c59f32b6a96",
   "metadata": {},
   "outputs": [],
   "source": [
    "import re"
   ]
  },
  {
   "cell_type": "code",
   "execution_count": 13,
   "id": "2db0423c-fc65-4e21-bb06-9738349c373c",
   "metadata": {},
   "outputs": [
    {
     "data": {
      "text/plain": [
       "10"
      ]
     },
     "execution_count": 13,
     "metadata": {},
     "output_type": "execute_result"
    }
   ],
   "source": [
    "pattern = re.compile(\"Chapter [0-9]+\")\n",
    "findings = re.findall(pattern, book)\n",
    "len(findings)"
   ]
  },
  {
   "cell_type": "markdown",
   "id": "079a7bb0-3428-48ae-8ecd-ed100fb35c7d",
   "metadata": {},
   "source": [
    "#### which are the sentences where \"love\" was used"
   ]
  },
  {
   "cell_type": "code",
   "execution_count": 31,
   "id": "fdee509e-8e72-4f88-a499-2719b5ab22ee",
   "metadata": {},
   "outputs": [
    {
     "data": {
      "text/plain": [
       "67"
      ]
     },
     "execution_count": 31,
     "metadata": {},
     "output_type": "execute_result"
    }
   ],
   "source": [
    "pattern = re.compile('[A-Z]{1}[^.]*[^a-zA-Z]+love[^a-zA-Z]+[^.]*.')\n",
    "findings = re.findall(pattern, book)\n",
    "len(findings)"
   ]
  }
 ],
 "metadata": {
  "kernelspec": {
   "display_name": "Python 3 (ipykernel)",
   "language": "python",
   "name": "python3"
  },
  "language_info": {
   "codemirror_mode": {
    "name": "ipython",
    "version": 3
   },
   "file_extension": ".py",
   "mimetype": "text/x-python",
   "name": "python",
   "nbconvert_exporter": "python",
   "pygments_lexer": "ipython3",
   "version": "3.9.13"
  }
 },
 "nbformat": 4,
 "nbformat_minor": 5
}
