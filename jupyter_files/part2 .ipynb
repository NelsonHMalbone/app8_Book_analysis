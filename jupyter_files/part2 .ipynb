{
 "cells": [
  {
   "cell_type": "markdown",
   "id": "39e78c93-e9e4-46e3-8d62-35f90cbf7afb",
   "metadata": {},
   "source": [
    "## loading the book"
   ]
  },
  {
   "cell_type": "code",
   "execution_count": 4,
   "id": "32b65a12-5943-4903-9eb4-fc2107dd2b66",
   "metadata": {},
   "outputs": [],
   "source": [
    "with open(\"../miracle_in_the_andes.txt\", \"r\", encoding=\"UTF-8\") as file:\n",
    "    book = file.read()"
   ]
  },
  {
   "cell_type": "markdown",
   "id": "ccf4a803-e0fa-40b8-938b-4d4a65a998cf",
   "metadata": {},
   "source": [
    "## most used words (non-articles)"
   ]
  },
  {
   "cell_type": "code",
   "execution_count": 14,
   "id": "927907e8-4c5d-49f2-931e-fd2c3c4442af",
   "metadata": {},
   "outputs": [
    {
     "data": {
      "text/plain": [
       "['chapter', 'before', 'it', 'was', 'friday']"
      ]
     },
     "execution_count": 14,
     "metadata": {},
     "output_type": "execute_result"
    }
   ],
   "source": [
    "import re\n",
    "pattern = re.compile(\"[a-zA-Z]+\")\n",
    "findings = re.findall(pattern, book.lower())\n",
    "findings[:5]"
   ]
  },
  {
   "cell_type": "code",
   "execution_count": 16,
   "id": "0718d96c-3906-47c3-bbff-feab98acacef",
   "metadata": {},
   "outputs": [],
   "source": [
    "d = {}\n",
    "for word in findings:\n",
    "    if word in d.keys():\n",
    "        d[word] = d[word] + 1\n",
    "    else:\n",
    "        d[word] = 1"
   ]
  },
  {
   "cell_type": "code",
   "execution_count": 21,
   "id": "f76d704e-f462-408c-b783-112091e89e2e",
   "metadata": {},
   "outputs": [
    {
     "data": {
      "text/plain": [
       "[(5346, 'the'), (2795, 'and'), (2729, 'i'), (2400, 'to'), (2060, 'of')]"
      ]
     },
     "execution_count": 21,
     "metadata": {},
     "output_type": "execute_result"
    }
   ],
   "source": [
    "d_list = [(value, key) for (key, value) in d.items()]\n",
    "d_list = sorted(d_list, reverse=True)\n",
    "d_list[:5]"
   ]
  },
  {
   "cell_type": "code",
   "execution_count": 25,
   "id": "0b26d477-7545-431e-84da-d234b472b5ec",
   "metadata": {},
   "outputs": [
    {
     "name": "stdout",
     "output_type": "stream",
     "text": [
      "Requirement already satisfied: nltk in c:\\users\\nhmal\\desktop\\udemy\\python mega course\\book-analysis\\app_8_book_analysis\\venv\\lib\\site-packages (3.8.1)\n",
      "Requirement already satisfied: click in c:\\users\\nhmal\\desktop\\udemy\\python mega course\\book-analysis\\app_8_book_analysis\\venv\\lib\\site-packages (from nltk) (8.1.7)\n",
      "Requirement already satisfied: joblib in c:\\users\\nhmal\\desktop\\udemy\\python mega course\\book-analysis\\app_8_book_analysis\\venv\\lib\\site-packages (from nltk) (1.4.2)\n",
      "Requirement already satisfied: regex>=2021.8.3 in c:\\users\\nhmal\\desktop\\udemy\\python mega course\\book-analysis\\app_8_book_analysis\\venv\\lib\\site-packages (from nltk) (2024.5.15)\n",
      "Requirement already satisfied: tqdm in c:\\users\\nhmal\\desktop\\udemy\\python mega course\\book-analysis\\app_8_book_analysis\\venv\\lib\\site-packages (from nltk) (4.66.4)\n",
      "Requirement already satisfied: colorama in c:\\users\\nhmal\\desktop\\udemy\\python mega course\\book-analysis\\app_8_book_analysis\\venv\\lib\\site-packages (from click->nltk) (0.4.6)\n"
     ]
    }
   ],
   "source": [
    "!pip3.11 install nltk"
   ]
  },
  {
   "cell_type": "code",
   "execution_count": 32,
   "id": "62700cba-43c7-40ac-85f1-b7b20dd01073",
   "metadata": {},
   "outputs": [],
   "source": [
    "import nltk\n",
    "from nltk.corpus import stopwords\n",
    "english_stopwords = stopwords.words(\"english\")"
   ]
  },
  {
   "cell_type": "code",
   "execution_count": 38,
   "id": "09d27b7e-aaba-495a-b64d-c2b0fe9ec342",
   "metadata": {},
   "outputs": [],
   "source": [
    "filter_words = []\n",
    "for count, word in d_list:\n",
    "    if word not in english_stopwords:\n",
    "        filter_words.append((word, count))"
   ]
  },
  {
   "cell_type": "code",
   "execution_count": 40,
   "id": "787ffd7a-9d27-4d27-8cde-467e85af1640",
   "metadata": {},
   "outputs": [
    {
     "data": {
      "text/plain": [
       "[('would', 575), ('us', 519), ('said', 292), ('roberto', 284), ('could', 252)]"
      ]
     },
     "execution_count": 40,
     "metadata": {},
     "output_type": "execute_result"
    }
   ],
   "source": [
    "filter_words[:5]"
   ]
  },
  {
   "cell_type": "markdown",
   "id": "9f61cc60-b05a-48ec-9550-989489bd42d1",
   "metadata": {},
   "source": [
    "### sentiment Analyis: most positive and most negative chapter"
   ]
  },
  {
   "cell_type": "markdown",
   "id": "4c28a8ec-b6fa-4a16-b3a3-47bc76668ad3",
   "metadata": {},
   "source": [
    "#### an example"
   ]
  },
  {
   "cell_type": "code",
   "execution_count": 70,
   "id": "968772a3-f62d-4d0a-84b0-16bf7cc4870f",
   "metadata": {},
   "outputs": [],
   "source": [
    "from nltk.sentiment.vader import SentimentIntensityAnalyzer\n",
    "import nltk"
   ]
  },
  {
   "cell_type": "code",
   "execution_count": 71,
   "id": "070d889e-dc20-4dbf-ad97-23da640dd4dc",
   "metadata": {},
   "outputs": [],
   "source": [
    "analyzer = SentimentIntensityAnalyzer()"
   ]
  },
  {
   "cell_type": "code",
   "execution_count": 72,
   "id": "597a7b47-a243-4b30-b1d0-31598a79b4ba",
   "metadata": {},
   "outputs": [
    {
     "data": {
      "text/plain": [
       "<nltk.sentiment.vader.SentimentIntensityAnalyzer at 0x2c9b3e70b50>"
      ]
     },
     "execution_count": 72,
     "metadata": {},
     "output_type": "execute_result"
    }
   ],
   "source": [
    "analyzer"
   ]
  },
  {
   "cell_type": "code",
   "execution_count": 75,
   "id": "2ce02360-4eb3-40ab-84e4-1df3a9ea1d69",
   "metadata": {},
   "outputs": [],
   "source": [
    "scores = analyzer.polarity_scores(\"yo man, those trees look amazing\")"
   ]
  },
  {
   "cell_type": "code",
   "execution_count": 79,
   "id": "dc6356dd-e83f-4d4c-b1e3-1998b760c25e",
   "metadata": {},
   "outputs": [
    {
     "name": "stdout",
     "output_type": "stream",
     "text": [
      "It is a positive Text\n"
     ]
    }
   ],
   "source": [
    "if scores [\"pos\"] > scores[\"neg\"]:\n",
    "    print(\"It is a positive Text\")\n",
    "else:\n",
    "    print(\"it is a negative text\")"
   ]
  },
  {
   "cell_type": "code",
   "execution_count": 91,
   "id": "4c25287c-d06b-4f6f-8133-f789fd7e4240",
   "metadata": {},
   "outputs": [
    {
     "data": {
      "text/plain": [
       "{'neg': 0.116, 'neu': 0.76, 'pos': 0.125, 'compound': 1.0}"
      ]
     },
     "execution_count": 91,
     "metadata": {},
     "output_type": "execute_result"
    }
   ],
   "source": [
    "analyzer.polarity_scores(book)"
   ]
  },
  {
   "cell_type": "markdown",
   "id": "a99abed1-f08c-439c-94f9-1fb94b47910e",
   "metadata": {},
   "source": [
    "### analyze chapters"
   ]
  },
  {
   "cell_type": "code",
   "execution_count": 98,
   "id": "c0fe7211-0fc7-430b-9be5-8c251a0b9adb",
   "metadata": {},
   "outputs": [],
   "source": [
    "import re\n",
    "pattern = re.compile(\"Chapter [0-9]+\")\n",
    "chapters = re.split(pattern, book)"
   ]
  },
  {
   "cell_type": "code",
   "execution_count": 99,
   "id": "08d81b00-1ec4-4a2e-a198-dcf67f17c33e",
   "metadata": {},
   "outputs": [],
   "source": [
    "chapters = chapters[1:]"
   ]
  },
  {
   "cell_type": "code",
   "execution_count": 101,
   "id": "c58c2e7d-3f4a-4cef-962e-683c434ec023",
   "metadata": {},
   "outputs": [
    {
     "name": "stdout",
     "output_type": "stream",
     "text": [
      "{'neg': 0.061, 'neu': 0.779, 'pos': 0.16, 'compound': 1.0}\n",
      "{'neg': 0.12, 'neu': 0.726, 'pos': 0.154, 'compound': 0.9991}\n",
      "{'neg': 0.145, 'neu': 0.751, 'pos': 0.105, 'compound': -0.9999}\n",
      "{'neg': 0.141, 'neu': 0.721, 'pos': 0.138, 'compound': -0.9963}\n",
      "{'neg': 0.118, 'neu': 0.742, 'pos': 0.141, 'compound': 0.9997}\n",
      "{'neg': 0.124, 'neu': 0.761, 'pos': 0.115, 'compound': -0.9979}\n",
      "{'neg': 0.136, 'neu': 0.761, 'pos': 0.103, 'compound': -0.9999}\n",
      "{'neg': 0.12, 'neu': 0.786, 'pos': 0.094, 'compound': -0.9998}\n",
      "{'neg': 0.097, 'neu': 0.824, 'pos': 0.079, 'compound': -0.9996}\n",
      "{'neg': 0.086, 'neu': 0.733, 'pos': 0.181, 'compound': 1.0}\n"
     ]
    }
   ],
   "source": [
    "for chapter in chapters:\n",
    "    scores = analyzer.polarity_scores(chapter)\n",
    "    print(scores)"
   ]
  }
 ],
 "metadata": {
  "kernelspec": {
   "display_name": "Python 3 (ipykernel)",
   "language": "python",
   "name": "python3"
  },
  "language_info": {
   "codemirror_mode": {
    "name": "ipython",
    "version": 3
   },
   "file_extension": ".py",
   "mimetype": "text/x-python",
   "name": "python",
   "nbconvert_exporter": "python",
   "pygments_lexer": "ipython3",
   "version": "3.9.13"
  }
 },
 "nbformat": 4,
 "nbformat_minor": 5
}
